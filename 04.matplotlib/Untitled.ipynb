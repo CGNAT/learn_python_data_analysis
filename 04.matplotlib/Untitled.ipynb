{
 "cells": [
  {
   "cell_type": "code",
   "execution_count": null,
   "metadata": {},
   "outputs": [],
   "source": [
    "import pandas as pd\n",
    "import matplotlib.pyplot as plt\n",
    "%matplotlib inline\n",
    "\n",
    "TSMC = pd.read_csv('2330stk.csv', sep='\\t', index_col='Date')\n",
    "TSMC.index = pd.to_datetime(TSMC.index) # 把index轉成datetime型態\n",
    "close = TSMC.Close\n",
    "\n",
    "fig = plt.figure()\n",
    "plt.plot(close['2016'], '-')\n",
    "plt.title('台積電 2016年收盤價曲線', loc='right')\n",
    "# loc->title的位置\n",
    "fig.savefig('day17_01.png')"
   ]
  },
  {
   "cell_type": "code",
   "execution_count": null,
   "metadata": {},
   "outputs": [],
   "source": []
  }
 ],
 "metadata": {
  "kernelspec": {
   "display_name": "Python 3",
   "language": "python",
   "name": "python3"
  }
 },
 "nbformat": 4,
 "nbformat_minor": 2
}
