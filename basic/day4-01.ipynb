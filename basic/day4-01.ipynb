{
 "cells": [
  {
   "cell_type": "code",
   "execution_count": 3,
   "metadata": {},
   "outputs": [
    {
     "name": "stdout",
     "output_type": "stream",
     "text": [
      "2018總冠軍隊伍 中信兄弟\n",
      "2018總亞軍隊伍 lamigo\n"
     ]
    }
   ],
   "source": [
    "list = [\"中信兄弟\", \"統一獅\", \"lamigo\", \"富邦悍將\"]\n",
    "print('2018總冠軍隊伍', list[0])\n",
    "print('2018總亞軍隊伍', list[-2])"
   ]
  },
  {
   "cell_type": "code",
   "execution_count": 7,
   "metadata": {},
   "outputs": [
    {
     "name": "stdout",
     "output_type": "stream",
     "text": [
      "0,1,2,3,4,"
     ]
    }
   ],
   "source": [
    "list1 = range(0, 5)\n",
    "for i in list1:\n",
    "    print(i,end=\",\")"
   ]
  },
  {
   "cell_type": "code",
   "execution_count": 11,
   "metadata": {},
   "outputs": [
    {
     "name": "stdout",
     "output_type": "stream",
     "text": [
      "1*1=1    1*2=2    1*3=3    1*4=4    1*5=5    1*6=6    1*7=7    1*8=8    1*9=9    \n",
      "2*1=2    2*2=4    2*3=6    2*4=8    2*5=10   2*6=12   2*7=14   2*8=16   2*9=18   \n",
      "3*1=3    3*2=6    3*3=9    3*4=12   3*5=15   3*6=18   3*7=21   3*8=24   3*9=27   \n",
      "4*1=4    4*2=8    4*3=12   4*4=16   4*5=20   4*6=24   4*7=28   4*8=32   4*9=36   \n",
      "5*1=5    5*2=10   5*3=15   5*4=20   5*5=25   5*6=30   5*7=35   5*8=40   5*9=45   \n",
      "6*1=6    6*2=12   6*3=18   6*4=24   6*5=30   6*6=36   6*7=42   6*8=48   6*9=54   \n",
      "7*1=7    7*2=14   7*3=21   7*4=28   7*5=35   7*6=42   7*7=49   7*8=56   7*9=63   \n",
      "8*1=8    8*2=16   8*3=24   8*4=32   8*5=40   8*6=48   8*7=56   8*8=64   8*9=72   \n",
      "9*1=9    9*2=18   9*3=27   9*4=36   9*5=45   9*6=54   9*7=63   9*8=72   9*9=81   \n"
     ]
    }
   ],
   "source": [
    "for i in range(1,10):\n",
    "    for j in range(1,10):\n",
    "        product = i * j\n",
    "        print(\"%d*%d=%-2d  \" % (i,j, product), end=\" \")\n",
    "    print()"
   ]
  },
  {
   "cell_type": "code",
   "execution_count": 14,
   "metadata": {},
   "outputs": [
    {
     "name": "stdout",
     "output_type": "stream",
     "text": [
      "1,2,3,4,5,7,8,9,10,"
     ]
    }
   ],
   "source": [
    "for i in range(1,11):\n",
    "    if(i==6):\n",
    "        continue\n",
    "    print(i, end=\",\")"
   ]
  },
  {
   "cell_type": "code",
   "execution_count": 17,
   "metadata": {},
   "outputs": [
    {
     "name": "stdout",
     "output_type": "stream",
     "text": [
      "請輸入大於1的整數：10\n",
      "10 不是質數!\n"
     ]
    }
   ],
   "source": [
    "n = int(input(\"請輸入大於1的整數：\"))\n",
    "if(n==2):\n",
    "    print(\"2是質數!\")\n",
    "else:\n",
    "    for i in range(2,n):\n",
    "        if(n % i == 0):\n",
    "            print(\"%d 不是質數!\" %n)\n",
    "            break\n",
    "    else:\n",
    "        print(\"%d是質數!\" %n)"
   ]
  },
  {
   "cell_type": "code",
   "execution_count": 18,
   "metadata": {},
   "outputs": [
    {
     "name": "stdout",
     "output_type": "stream",
     "text": [
      "55\n"
     ]
    }
   ],
   "source": [
    "total = n = 0\n",
    "while(n<10):\n",
    "    n += 1\n",
    "    total += n\n",
    "print(total) "
   ]
  },
  {
   "cell_type": "code",
   "execution_count": 45,
   "metadata": {},
   "outputs": [
    {
     "name": "stdout",
     "output_type": "stream",
     "text": [
      "[1, 2, 3, 4, 5, 6, 1, 2, 3, 4, 5, 6]\n",
      "[3, 4, 5]\n",
      "[2, 4]\n",
      "[1, 5, 6]\n",
      "[1, 3, 5, 6]\n",
      "6\n",
      "1\n",
      "6\n",
      "2\n",
      "1\n",
      "[1, 2, 3, 4, 5, 6, 8]\n",
      "[1, 2, 3, 4, 5, 6, 8, 9]\n",
      "[1, 2, 3, 8, 4, 5, 6]\n",
      "6\n",
      "[2, 4, 5, 6]\n",
      "[4, 3, 6, 5, 2]\n",
      "[2, 3, 4, 5, 7]\n"
     ]
    }
   ],
   "source": [
    "list1 = [1,2,3,4,5,6]\n",
    "list2 = list1*2\n",
    "print(list2)\n",
    "list3 = list1[2:5]\n",
    "print(list3)\n",
    "list4 = list1[1:4:2]\n",
    "print(list4)\n",
    "del list1[1:4]\n",
    "print(list1)\n",
    "list1 = [1,2,3,4,5,6]\n",
    "del list1[1:4:2]\n",
    "print(list1)\n",
    "list1 = [1,2,3,4,5,6]\n",
    "n=len(list1)\n",
    "print(n)\n",
    "n=min(list1)\n",
    "print(n)\n",
    "n=max(list1)\n",
    "print(n)\n",
    "n=list1.index(3)\n",
    "print(n)\n",
    "n=list1.count(3)\n",
    "print(n)\n",
    "list1.append(8)\n",
    "print(list1)\n",
    "list1 = [1,2,3,4,5,6]\n",
    "list1.extend([8,9])\n",
    "print(list1)\n",
    "list1 = [1,2,3,4,5,6]\n",
    "list1.insert(3,8)\n",
    "print(list1)\n",
    "list1 = [1,2,3,4,5,6]\n",
    "n = list1.pop()\n",
    "print(n)\n",
    "list1 = [2,3,4,5,6]\n",
    "list1.remove(3)\n",
    "print(list1)\n",
    "list1 = [2,5,6,3,4]\n",
    "list1.reverse()\n",
    "print(list1)\n",
    "list1 = [3,2,5,7,4]\n",
    "list1.sort()\n",
    "print(list1)"
   ]
  },
  {
   "cell_type": "code",
   "execution_count": 6,
   "metadata": {},
   "outputs": [
    {
     "name": "stdout",
     "output_type": "stream",
     "text": [
      "[1, 2, 3, 4, 5, 8]\n"
     ]
    }
   ],
   "source": [
    "tuple1 = (1,2,3,4,5)\n",
    "list1 = list(tuple1) #元祖轉為串列\n",
    "list1.append(8)  #可以執行\n",
    "print(list1)  #輸出為  [1, 2, 3, 4, 5, 8]\n",
    "\n",
    "list2 = [1,2,3,4,5]\n",
    "tuple2 = tuple(list2)\n",
    "# tuple2.append(8)  #會出錯  'tuple' object has no attribute 'append'"
   ]
  },
  {
   "cell_type": "code",
   "execution_count": 11,
   "metadata": {},
   "outputs": [
    {
     "name": "stdout",
     "output_type": "stream",
     "text": [
      "中信兄弟\n",
      "{'team': '中信兄弟', 'ranking': 'number one'}\n",
      "{}\n"
     ]
    },
    {
     "ename": "NameError",
     "evalue": "name 'dict1' is not defined",
     "output_type": "error",
     "traceback": [
      "\u001b[1;31m---------------------------------------------------------------------------\u001b[0m",
      "\u001b[1;31mNameError\u001b[0m                                 Traceback (most recent call last)",
      "\u001b[1;32m<ipython-input-11-5f66050a103a>\u001b[0m in \u001b[0;36m<module>\u001b[1;34m()\u001b[0m\n\u001b[0;32m      9\u001b[0m \u001b[1;33m\u001b[0m\u001b[0m\n\u001b[0;32m     10\u001b[0m \u001b[1;32mdel\u001b[0m \u001b[0mdict1\u001b[0m\u001b[1;33m\u001b[0m\u001b[0m\n\u001b[1;32m---> 11\u001b[1;33m \u001b[0mprint\u001b[0m\u001b[1;33m(\u001b[0m\u001b[0mdict1\u001b[0m\u001b[1;33m)\u001b[0m  \u001b[1;31m#輸出 {}\u001b[0m\u001b[1;33m\u001b[0m\u001b[0m\n\u001b[0m",
      "\u001b[1;31mNameError\u001b[0m: name 'dict1' is not defined"
     ]
    }
   ],
   "source": [
    "dict1 = {\"team\":\"中信兄弟\",\"year\":\"2018\",\"ranking\":\"number one\"}\n",
    "print(dict1[\"team\"])   #輸出 中信兄弟\n",
    "\n",
    "del dict1[\"year\"] #刪除元素\n",
    "print(dict1)  #輸出 {'team': '中信兄弟', 'ranking': 'number one'}\n",
    "\n",
    "dict1.clear() #刪除所有元素\n",
    "print(dict1)  #輸出 {}\n",
    "\n",
    "del dict1  # 刪除dict\n"
   ]
  },
  {
   "cell_type": "code",
   "execution_count": null,
   "metadata": {},
   "outputs": [],
   "source": []
  }
 ],
 "metadata": {
  "kernelspec": {
   "display_name": "Python 3",
   "language": "python",
   "name": "python3"
  },
  "language_info": {
   "codemirror_mode": {
    "name": "ipython",
    "version": 3
   },
   "file_extension": ".py",
   "mimetype": "text/x-python",
   "name": "python",
   "nbconvert_exporter": "python",
   "pygments_lexer": "ipython3",
   "version": "3.6.5"
  }
 },
 "nbformat": 4,
 "nbformat_minor": 2
}
