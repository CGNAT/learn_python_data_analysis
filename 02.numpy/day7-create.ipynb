{
 "cells": [
  {
   "cell_type": "code",
   "execution_count": 18,
   "metadata": {},
   "outputs": [
    {
     "data": {
      "text/plain": [
       "array([[8, 9, 7],\n",
       "       [1, 1, 1],\n",
       "       [3, 3, 3]])"
      ]
     },
     "execution_count": 18,
     "metadata": {},
     "output_type": "execute_result"
    }
   ],
   "source": [
    "import numpy as np\n",
    "array0 = np.zeros(10, dtype=int) #建立一個內容為0 長度為10的整數陣列\n",
    "array1 = np.ones((3,5) ,dtype=float)  #建立一個內容為1 3x5 的浮點數陣列\n",
    "array2 = np.full((4,2), 2.2) #建立一個內容為2.2 4x2 的浮點數陣列\n",
    "array3 = np.arange(0,20,2) #建立一個依序填滿的陣列 0到20間隔為2\n",
    "array4 = np.linspace(0,1,5) #建立一個5個值的陣列，在0到1間平均分布\n",
    "array5 = np.random.random((3,3)) #建立一個3*3 陣列，在0到1間亂數值\n",
    "array6 = np.random.normal(0,1,(3,3)) #建立一個3*3陣列，內容為常態分佈的亂數值 平均0，標準差1\n",
    "array7 = np.random.randint(0,10,(3,3)) #建立一個3*3陣列，內容介於0到10的整數\n"
   ]
  },
  {
   "cell_type": "code",
   "execution_count": 28,
   "metadata": {},
   "outputs": [
    {
     "name": "stdout",
     "output_type": "stream",
     "text": [
      "x3 ndim:      3\n",
      "x3 shape:     (3, 4, 5)\n",
      "x3 size:      60\n",
      "x3 dtype:     int32\n",
      "x3 itemsize:  4 bytes\n",
      "x3 nbytes:    240 bytes\n"
     ]
    }
   ],
   "source": [
    "np.random.seed(0) #\n",
    "x1 = np.random.randint(10, size=6)    #一維陣列\n",
    "x2 = np.random.randint(10, size=(3,4))     #二維陣列\n",
    "x3 = np.random.randint(10, size=(3,4,5))   #三維陣列\n",
    "print(\"x3 ndim:     \", x3.ndim)                  #維度數量\n",
    "print(\"x3 shape:    \", x3.shape)                 #每一個維度的大小\n",
    "print(\"x3 size:     \", x3.size)                  #整個陣列的大小\n",
    "print(\"x3 dtype:    \", x3.dtype)                 #整個陣列的資料型態\n",
    "print(\"x3 itemsize: \", x3.itemsize, \"bytes\")     #陣列中元素的大小(位元組為單位)\n",
    "print(\"x3 nbytes:   \", x3.nbytes, \"bytes\")       #整個陣列的大小(位元組為單位)  一般來說 nbytes = itemsize * size"
   ]
  },
  {
   "cell_type": "code",
   "execution_count": 33,
   "metadata": {},
   "outputs": [
    {
     "name": "stdout",
     "output_type": "stream",
     "text": [
      "[[3 5 2 4]\n",
      " [7 6 8 8]\n",
      " [1 6 7 7]]\n"
     ]
    },
    {
     "data": {
      "text/plain": [
       "5"
      ]
     },
     "execution_count": 33,
     "metadata": {},
     "output_type": "execute_result"
    }
   ],
   "source": [
    "print(x2)\n",
    "x1[2]  #存取一維陣列\n",
    "x1[-1]\n",
    "x2[0,0] #存取多維陣列\n",
    "x2[0,0] = 5 #修改元素值\n",
    "x2[0,0]"
   ]
  },
  {
   "cell_type": "code",
   "execution_count": 34,
   "metadata": {},
   "outputs": [],
   "source": [
    "x4 = np.arange(10)"
   ]
  },
  {
   "cell_type": "code",
   "execution_count": 40,
   "metadata": {},
   "outputs": [
    {
     "data": {
      "text/plain": [
       "array([9, 8, 7, 6, 5, 4, 3, 2, 1, 0])"
      ]
     },
     "execution_count": 40,
     "metadata": {},
     "output_type": "execute_result"
    }
   ],
   "source": [
    "x4[:5]     # 前面5個元素\n",
    "x4[5:]     # index5 之後的元素\n",
    "x4[4:7]    # index 4~(7-1) 的元素\n",
    "x4[::2]    # 間隔2的所有元素\n",
    "x4[1::2]   # index1開始 間隔2的所有元素\n",
    "x4[::-1]   # 反轉元素"
   ]
  },
  {
   "cell_type": "code",
   "execution_count": 43,
   "metadata": {},
   "outputs": [
    {
     "data": {
      "text/plain": [
       "array([[5, 5, 2, 4],\n",
       "       [7, 6, 8, 8],\n",
       "       [1, 6, 7, 7]])"
      ]
     },
     "execution_count": 43,
     "metadata": {},
     "output_type": "execute_result"
    }
   ],
   "source": [
    "x2"
   ]
  },
  {
   "cell_type": "code",
   "execution_count": 47,
   "metadata": {},
   "outputs": [
    {
     "data": {
      "text/plain": [
       "array([1, 6, 7, 7])"
      ]
     },
     "execution_count": 47,
     "metadata": {},
     "output_type": "execute_result"
    }
   ],
   "source": [
    "x2[:2, :3]   #取得  2列        3欄\n",
    "x2[:3, ::2]  #取得  3列        偶數欄\n",
    "x2[:,0]      #取得 所有列      第(0+1)欄\n",
    "x2[2,:]      #取得 第(2+1)列   所有欄\n"
   ]
  },
  {
   "cell_type": "code",
   "execution_count": 64,
   "metadata": {},
   "outputs": [
    {
     "data": {
      "text/plain": [
       "[array([[1, 2],\n",
       "        [4, 5],\n",
       "        [7, 8]]), array([[3],\n",
       "        [6],\n",
       "        [9]])]"
      ]
     },
     "execution_count": 64,
     "metadata": {},
     "output_type": "execute_result"
    }
   ],
   "source": [
    "x = np.array([1,2,3])\n",
    "x[np.newaxis,:]          # 透過newaxis建立(列)向量\n",
    "x.reshape((3,1))         # 透過reshape建立欄向量\n",
    "y = np.array([4,5,6])\n",
    "np.concatenate([x,y])    # 串接陣列\n",
    "np.vstack([x,y])         # 垂直串接\n",
    "np.hstack([x,y])         # 水平串接\n",
    "z = np.array([1,2,3,4,5,6,7,8,9])\n",
    "z1,z2,z3 = np.split(z,[3,5])              # 分割3個陣列 [index 0~(3-1) ] [ index 3~(5-1)] [index (5~end)]\n",
    "z = np.array([[1,2,3],[4,5,6],[7,8,9]])\n",
    "np.vsplit(z,[2])                          # 垂直分割\n",
    "np.hsplit(z,[2])                          # 水平分割"
   ]
  },
  {
   "cell_type": "code",
   "execution_count": null,
   "metadata": {},
   "outputs": [],
   "source": []
  }
 ],
 "metadata": {
  "kernelspec": {
   "display_name": "Python 3",
   "language": "python",
   "name": "python3"
  },
  "language_info": {
   "codemirror_mode": {
    "name": "ipython",
    "version": 3
   },
   "file_extension": ".py",
   "mimetype": "text/x-python",
   "name": "python",
   "nbconvert_exporter": "python",
   "pygments_lexer": "ipython3",
   "version": "3.6.5"
  }
 },
 "nbformat": 4,
 "nbformat_minor": 2
}
