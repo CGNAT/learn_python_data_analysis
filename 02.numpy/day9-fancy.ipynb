{
 "cells": [
  {
   "cell_type": "code",
   "execution_count": 2,
   "metadata": {},
   "outputs": [],
   "source": [
    "import numpy as np\n",
    "x = np.random.randint(0,100,size = 10)\n",
    "\n"
   ]
  },
  {
   "cell_type": "code",
   "execution_count": 3,
   "metadata": {},
   "outputs": [
    {
     "data": {
      "text/plain": [
       "[56, 8, 67, 33]"
      ]
     },
     "execution_count": 3,
     "metadata": {},
     "output_type": "execute_result"
    }
   ],
   "source": [
    "[x[0],x[3],x[2],x[6]]"
   ]
  },
  {
   "cell_type": "code",
   "execution_count": 13,
   "metadata": {},
   "outputs": [
    {
     "data": {
      "text/plain": [
       "array([[55, 20],\n",
       "       [19, 36]])"
      ]
     },
     "execution_count": 13,
     "metadata": {},
     "output_type": "execute_result"
    }
   ],
   "source": [
    "ironman = np.array([\n",
    "    [0,3],\n",
    "    [2,6]\n",
    "])\n",
    "x[ironman]"
   ]
  },
  {
   "cell_type": "code",
   "execution_count": 20,
   "metadata": {},
   "outputs": [
    {
     "name": "stdout",
     "output_type": "stream",
     "text": [
      "[[35 30  1 69]\n",
      " [22 45  2 93]\n",
      " [ 0 17 50  3]]\n"
     ]
    },
    {
     "data": {
      "text/plain": [
       "array([ 1, 45,  3])"
      ]
     },
     "execution_count": 20,
     "metadata": {},
     "output_type": "execute_result"
    }
   ],
   "source": [
    "y = np.random.randint(0,100,(3,4))\n",
    "print(y)\n",
    "row = np.array([0,1,2])\n",
    "col = np.array([2,1,3])\n",
    "y[row,col]"
   ]
  },
  {
   "cell_type": "code",
   "execution_count": 22,
   "metadata": {},
   "outputs": [
    {
     "name": "stdout",
     "output_type": "stream",
     "text": [
      "[[0]\n",
      " [1]\n",
      " [2]]\n"
     ]
    },
    {
     "data": {
      "text/plain": [
       "array([[ 1, 30, 69],\n",
       "       [ 2, 45, 93],\n",
       "       [50, 17,  3]])"
      ]
     },
     "execution_count": 22,
     "metadata": {},
     "output_type": "execute_result"
    }
   ],
   "source": [
    "newRow = row[:, np.newaxis]\n",
    "print(newRow)\n",
    "y[newRow,col]"
   ]
  },
  {
   "cell_type": "code",
   "execution_count": 23,
   "metadata": {},
   "outputs": [
    {
     "data": {
      "text/plain": [
       "array([50,  0, 17])"
      ]
     },
     "execution_count": 23,
     "metadata": {},
     "output_type": "execute_result"
    }
   ],
   "source": [
    "y[2,[2,0,1]]"
   ]
  },
  {
   "cell_type": "code",
   "execution_count": 27,
   "metadata": {},
   "outputs": [
    {
     "name": "stdout",
     "output_type": "stream",
     "text": [
      "[[ 1.22661115  2.49963667]\n",
      " [-0.43770487  0.56843056]\n",
      " [-0.38739242 -2.1119064 ]\n",
      " [-0.89488876 -1.36501914]\n",
      " [ 1.02210168  2.35011397]\n",
      " [ 1.58307805  4.17960621]\n",
      " [ 0.80828593  0.49014312]\n",
      " [ 0.55320055  1.59526557]\n",
      " [ 0.39623472  1.28080072]\n",
      " [-0.18897106 -1.36590546]\n",
      " [-0.53223229  1.03646042]\n",
      " [ 0.21218037 -0.40435212]\n",
      " [ 0.45639577 -0.34704131]\n",
      " [-1.18823044 -2.46782698]\n",
      " [-1.34840342 -2.27882188]\n",
      " [-0.73389819 -0.71590319]\n",
      " [ 0.07642545 -0.53226252]\n",
      " [ 1.11711363  2.21184993]\n",
      " [ 1.61596366  5.87772355]\n",
      " [ 1.61292049  3.81098046]\n",
      " [ 1.99243454  2.61767579]\n",
      " [ 0.19257567  0.13515007]\n",
      " [-0.0625069   0.44327047]\n",
      " [ 0.42634609  1.43929468]\n",
      " [-0.34604321 -1.19785487]\n",
      " [ 0.05589183  0.71772104]\n",
      " [-0.11377351 -0.1024774 ]\n",
      " [ 2.17126743  5.3052448 ]\n",
      " [-0.2960372  -0.86133926]\n",
      " [-1.039112   -0.44735665]\n",
      " [-0.33347886 -0.08493655]\n",
      " [ 1.11147053  1.76075912]\n",
      " [ 0.83365124  0.90895189]\n",
      " [ 0.36438406 -0.13107009]\n",
      " [ 0.71164698  0.16251496]\n",
      " [ 1.78499861  3.57803679]\n",
      " [ 1.23570741  2.276534  ]\n",
      " [ 0.69992414  1.30956259]\n",
      " [-1.48979547 -2.11487215]\n",
      " [-0.53257411 -1.67483999]\n",
      " [-0.79707227 -3.58156539]\n",
      " [ 1.76679586  4.55547397]\n",
      " [ 0.05534319 -0.01715818]\n",
      " [ 0.59772865 -0.33268498]\n",
      " [ 0.59640606  2.77556112]\n",
      " [-0.67366757 -2.40773438]\n",
      " [-1.37622814 -4.48153023]\n",
      " [ 0.41597887  1.32078801]\n",
      " [ 1.29075888  2.58803538]\n",
      " [ 0.31118942  0.32335787]\n",
      " [-1.0314093  -1.84839286]\n",
      " [ 1.27642877  2.34388819]\n",
      " [-0.14074652 -0.4122378 ]\n",
      " [ 0.56523948  1.82435889]\n",
      " [-0.51595641 -1.92874691]\n",
      " [-0.10840836 -2.01700801]\n",
      " [ 1.29658864  3.67137277]\n",
      " [ 1.15251147  1.70330744]\n",
      " [ 0.50255349  0.48010174]\n",
      " [ 0.25477141 -0.96019713]\n",
      " [-0.86641039  1.32970519]\n",
      " [ 0.63069214 -0.54855708]\n",
      " [-0.76440215 -1.25078058]\n",
      " [-1.33521777 -3.06292879]\n",
      " [ 0.06465614  1.68100464]\n",
      " [ 0.0312454  -1.87364793]\n",
      " [-0.60156554 -1.70439358]\n",
      " [-0.88323186 -2.53640936]\n",
      " [-0.80060941 -1.72267541]\n",
      " [-0.53378009 -1.31072618]\n",
      " [ 0.35710389  0.93498458]\n",
      " [-0.74351191 -1.34299743]\n",
      " [-1.65510074 -3.53509381]\n",
      " [-1.39148788 -1.08391236]\n",
      " [-0.26604215 -0.06259839]\n",
      " [ 0.54117294  1.35192167]\n",
      " [-1.63621288 -3.61278815]\n",
      " [-0.93317591 -3.40555557]\n",
      " [ 1.17652752  3.17325193]\n",
      " [ 0.24348731  3.47818258]\n",
      " [-0.67669876 -2.98206004]\n",
      " [ 0.37510326  0.2814602 ]\n",
      " [-0.36221679 -0.93708211]\n",
      " [-1.42285804 -1.84577192]\n",
      " [ 0.65342111  0.30768361]\n",
      " [-0.45688126 -1.28107874]\n",
      " [-0.99949553 -2.57764666]\n",
      " [-0.89523199 -1.79752604]\n",
      " [ 0.34660454  0.35042761]\n",
      " [-1.62729826 -1.19048023]\n",
      " [-0.72346341 -1.88912719]\n",
      " [-0.6973771  -1.56016621]\n",
      " [ 1.0648198   2.9060776 ]\n",
      " [-1.30957192 -3.50343611]\n",
      " [ 0.85325988  2.58869655]\n",
      " [-2.05136392 -3.93479143]\n",
      " [-1.82225386 -1.90723367]\n",
      " [-1.7704267  -3.50278534]\n",
      " [ 0.14015289  0.48731564]\n",
      " [-0.22916475  0.36499538]]\n"
     ]
    },
    {
     "data": {
      "text/plain": [
       "(100, 2)"
      ]
     },
     "execution_count": 27,
     "metadata": {},
     "output_type": "execute_result"
    }
   ],
   "source": [
    "mean = [0,0]\n",
    "cov = [[1,2],[2,5]]\n",
    "X = rand.multivariate_normal(mean,cov,100)\n",
    "print(X)\n",
    "X.shape"
   ]
  },
  {
   "cell_type": "code",
   "execution_count": 26,
   "metadata": {},
   "outputs": [
    {
     "data": {
      "image/png": "[encoded data removed]",
      "text/plain": [
       "<Figure size 432x288 with 1 Axes>"
      ]
     },
     "metadata": {},
     "output_type": "display_data"
    }
   ],
   "source": [
    "%matplotlib inline\n",
    "import matplotlib.pyplot as plt\n",
    "import seaborn; seaborn.set()\n",
    "\n",
    "plt.scatter(X[:,0],X[:,1]);"
   ]
  },
  {
   "cell_type": "code",
   "execution_count": 28,
   "metadata": {},
   "outputs": [
    {
     "data": {
      "text/plain": [
       "array([59, 35, 16, 83, 86, 45, 52, 51, 94,  3, 98, 89, 61, 58, 74, 23, 84,\n",
       "       17,  5, 62])"
      ]
     },
     "execution_count": 28,
     "metadata": {},
     "output_type": "execute_result"
    }
   ],
   "source": [
    "indices = np.random.choice(X.shape[0],20,replace=False)\n",
    "indices"
   ]
  },
  {
   "cell_type": "code",
   "execution_count": 30,
   "metadata": {},
   "outputs": [
    {
     "data": {
      "text/plain": [
       "array([[ 0.25477141, -0.96019713],\n",
       "       [ 1.78499861,  3.57803679],\n",
       "       [ 0.07642545, -0.53226252],\n",
       "       [-1.42285804, -1.84577192],\n",
       "       [-0.99949553, -2.57764666],\n",
       "       [-0.67366757, -2.40773438],\n",
       "       [-0.14074652, -0.4122378 ],\n",
       "       [ 1.27642877,  2.34388819],\n",
       "       [ 0.85325988,  2.58869655],\n",
       "       [-0.89488876, -1.36501914],\n",
       "       [ 0.14015289,  0.48731564],\n",
       "       [-1.62729826, -1.19048023],\n",
       "       [ 0.63069214, -0.54855708],\n",
       "       [ 0.50255349,  0.48010174],\n",
       "       [-0.26604215, -0.06259839],\n",
       "       [ 0.42634609,  1.43929468],\n",
       "       [ 0.65342111,  0.30768361],\n",
       "       [ 1.11711363,  2.21184993],\n",
       "       [ 1.58307805,  4.17960621],\n",
       "       [-0.76440215, -1.25078058]])"
      ]
     },
     "execution_count": 30,
     "metadata": {},
     "output_type": "execute_result"
    }
   ],
   "source": [
    "selection = X[indices]\n",
    "selection"
   ]
  },
  {
   "cell_type": "code",
   "execution_count": 40,
   "metadata": {},
   "outputs": [
    {
     "name": "stdout",
     "output_type": "stream",
     "text": [
      "[84 61 83 30 18 17 25 98 68 33]\n",
      "[2 1 5 2]\n",
      "[84 33 33 30 18 33 25 98 68 33]\n"
     ]
    }
   ],
   "source": [
    "x = np.random.randint(0,100,size = 10)\n",
    "print(x)\n",
    "i = np.array([2,1,5,2])\n",
    "print(i)\n",
    "x[i] = 33\n",
    "print(x)"
   ]
  },
  {
   "cell_type": "code",
   "execution_count": 41,
   "metadata": {},
   "outputs": [
    {
     "name": "stdout",
     "output_type": "stream",
     "text": [
      "[84 34 34 30 18 34 25 98 68 33]\n"
     ]
    }
   ],
   "source": [
    "x[i] +=1\n",
    "print(x)"
   ]
  },
  {
   "cell_type": "code",
   "execution_count": 47,
   "metadata": {},
   "outputs": [
    {
     "name": "stdout",
     "output_type": "stream",
     "text": [
      "i---> 0\n",
      "x[i:]---> [2 4 6 7 5]\n",
      "np.argmin(x[i:])---> 0\n",
      "swap---> 0\n",
      "i---> 1\n",
      "x[i:]---> [4 6 7 5]\n",
      "np.argmin(x[i:])---> 0\n",
      "swap---> 1\n",
      "i---> 2\n",
      "x[i:]---> [6 7 5]\n",
      "np.argmin(x[i:])---> 2\n",
      "swap---> 4\n",
      "i---> 3\n",
      "x[i:]---> [7 6]\n",
      "np.argmin(x[i:])---> 1\n",
      "swap---> 4\n",
      "i---> 4\n",
      "x[i:]---> [7]\n",
      "np.argmin(x[i:])---> 0\n",
      "swap---> 4\n"
     ]
    },
    {
     "data": {
      "text/plain": [
       "array([2, 4, 5, 6, 7])"
      ]
     },
     "execution_count": 47,
     "metadata": {},
     "output_type": "execute_result"
    }
   ],
   "source": [
    "def select_sort(x):\n",
    "    for i in range(len(x)):\n",
    "        print('i--->',i)\n",
    "        print('x[i:]--->',x[i:])\n",
    "        print('np.argmin(x[i:])--->',np.argmin(x[i:]))\n",
    "        swap = i + np.argmin(x[i:])\n",
    "        print('swap--->', swap)\n",
    "        (x[i], x[swap]) = (x[swap], x[i])\n",
    "    return x\n",
    "x = np.array([2,4,6,7,5])\n",
    "select_sort(x)"
   ]
  },
  {
   "cell_type": "code",
   "execution_count": 50,
   "metadata": {},
   "outputs": [
    {
     "name": "stdout",
     "output_type": "stream",
     "text": [
      "[92 99 23 17 96 97 46 63 39 74]\n",
      "[17 23 39 46 63 74 92 96 97 99]\n"
     ]
    }
   ],
   "source": [
    "x = np.random.randint(0,100,size = 10)\n",
    "print(x)\n",
    "x.sort()\n",
    "print(x)"
   ]
  },
  {
   "cell_type": "code",
   "execution_count": 4,
   "metadata": {},
   "outputs": [
    {
     "name": "stdout",
     "output_type": "stream",
     "text": [
      "[73 16 24 58 29]\n"
     ]
    },
    {
     "data": {
      "text/plain": [
       "array([1, 2, 4, 3, 0], dtype=int64)"
      ]
     },
     "execution_count": 4,
     "metadata": {},
     "output_type": "execute_result"
    }
   ],
   "source": [
    "x = np.random.randint(0,100,size = 5)\n",
    "print(x)\n",
    "np.argsort(x)"
   ]
  },
  {
   "cell_type": "code",
   "execution_count": 6,
   "metadata": {},
   "outputs": [
    {
     "name": "stdout",
     "output_type": "stream",
     "text": [
      "[[82 46 81  8]\n",
      " [45 17 39 64]\n",
      " [99 54 18 34]\n",
      " [14 84 27 49]]\n"
     ]
    },
    {
     "data": {
      "text/plain": [
       "array([[14, 17, 18,  8],\n",
       "       [45, 46, 27, 34],\n",
       "       [82, 54, 39, 49],\n",
       "       [99, 84, 81, 64]])"
      ]
     },
     "execution_count": 6,
     "metadata": {},
     "output_type": "execute_result"
    }
   ],
   "source": [
    "x = np.random.randint(0,100,(4,4))\n",
    "print(x)\n",
    "np.sort(x,axis=0)"
   ]
  },
  {
   "cell_type": "code",
   "execution_count": 8,
   "metadata": {},
   "outputs": [
    {
     "name": "stdout",
     "output_type": "stream",
     "text": [
      "[13 30 40 21  7 31 40  4 26 25]\n"
     ]
    },
    {
     "data": {
      "text/plain": [
       "array([ 4,  7, 13, 21, 25, 31, 30, 40, 26, 40])"
      ]
     },
     "execution_count": 8,
     "metadata": {},
     "output_type": "execute_result"
    }
   ],
   "source": [
    "x = np.random.randint(0,50,size=10)\n",
    "print(x)\n",
    "np.partition(x,4)"
   ]
  },
  {
   "cell_type": "code",
   "execution_count": 13,
   "metadata": {},
   "outputs": [
    {
     "name": "stdout",
     "output_type": "stream",
     "text": [
      "[('name', '<U10'), ('number', '<i2'), ('team', '<U10')]\n",
      "[('彭政閔', 23, '兄弟象') ('林智勝', 32, '兄弟象') ('蘇偉達', 96, '兄弟象')\n",
      " ('陽耀勳', 23, 'lamigo')]\n"
     ]
    }
   ],
   "source": [
    "team =np.zeros(4, dtype={'names':('name','number','team'),'formats':('U10','i2','U10')})\n",
    "print(team.dtype)\n",
    "team['name'] =['彭政閔','林智勝','蘇偉達','陽耀勳']\n",
    "team['number'] = [23,32,96,23]\n",
    "team['team'] = ['兄弟象','兄弟象','兄弟象','lamigo']\n",
    "print(team)"
   ]
  },
  {
   "cell_type": "code",
   "execution_count": 16,
   "metadata": {},
   "outputs": [
    {
     "name": "stdout",
     "output_type": "stream",
     "text": [
      "[23 32 96 23]\n"
     ]
    }
   ],
   "source": [
    "print(team['number'])"
   ]
  },
  {
   "cell_type": "code",
   "execution_count": null,
   "metadata": {},
   "outputs": [],
   "source": []
  }
 ],
 "metadata": {
  "kernelspec": {
   "display_name": "Python 3",
   "language": "python",
   "name": "python3"
  },
  "language_info": {
   "codemirror_mode": {
    "name": "ipython",
    "version": 3
   },
   "file_extension": ".py",
   "mimetype": "text/x-python",
   "name": "python",
   "nbconvert_exporter": "python",
   "pygments_lexer": "ipython3",
   "version": "3.6.5"
  }
 },
 "nbformat": 4,
 "nbformat_minor": 2
}
