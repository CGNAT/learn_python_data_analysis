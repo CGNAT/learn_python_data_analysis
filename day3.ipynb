{
 "cells": [
  {
   "cell_type": "code",
   "execution_count": 1,
   "metadata": {},
   "outputs": [
    {
     "name": "stdout",
     "output_type": "stream",
     "text": [
      "中華職棒2018年的總冠軍隊伍為兄弟象\n"
     ]
    }
   ],
   "source": [
    "print(\"{}{}年的總冠軍隊伍為{}\".format(\"中華職棒\",2018,\"兄弟象\")) #輸出結果 兄弟象 總冠軍"
   ]
  },
  {
   "cell_type": "code",
   "execution_count": 2,
   "metadata": {},
   "outputs": [
    {
     "name": "stdout",
     "output_type": "stream",
     "text": [
      "<class 'int'>\n",
      "<class 'str'>\n",
      "<class 'bool'>\n"
     ]
    }
   ],
   "source": [
    "print(type(2018))\n",
    "print(type(\"今年是不是兄弟拿總冠軍\"))\n",
    "print(type(True))"
   ]
  },
  {
   "cell_type": "code",
   "execution_count": 3,
   "metadata": {},
   "outputs": [
    {
     "name": "stdout",
     "output_type": "stream",
     "text": [
      "num2--> 6\n",
      "num3--> 5\n"
     ]
    }
   ],
   "source": [
    "num2 = 5 + True\n",
    "num3 = 5 + False\n",
    "print('num2-->',num2)\n",
    "print('num3-->',num3)"
   ]
  },
  {
   "cell_type": "code",
   "execution_count": 4,
   "metadata": {},
   "outputs": [
    {
     "name": "stdout",
     "output_type": "stream",
     "text": [
      "請輸入2018總冠軍是?兄弟象\n"
     ]
    }
   ],
   "source": [
    "score = input(\"請輸入2018總冠軍是?\")"
   ]
  },
  {
   "cell_type": "code",
   "execution_count": 6,
   "metadata": {},
   "outputs": [
    {
     "name": "stdout",
     "output_type": "stream",
     "text": [
      "請輸入2018中華職棒總冠軍?富邦\n",
      "不好意思你答錯了><~\n"
     ]
    }
   ],
   "source": [
    "winner = input(\"請輸入2018中華職棒總冠軍?\")\n",
    "if(winner==\"兄弟象\"):\n",
    "    print(\"恭喜你答對了!!\")\n",
    "else:\n",
    "    print(\"不好意思你答錯了~><~\")"
   ]
  },
  {
   "cell_type": "code",
   "execution_count": 9,
   "metadata": {},
   "outputs": [
    {
     "name": "stdout",
     "output_type": "stream",
     "text": [
      "請輸入兄弟象在總冠軍戰會打幾分?100\n",
      "兄弟象真是太強了\n"
     ]
    }
   ],
   "source": [
    "score = int(input(\"請輸入兄弟象在總冠軍戰會打幾分?\"))\n",
    "if(score>=60):\n",
    "    if(score>=100):\n",
    "        print(\"兄弟象真是太強了\")\n",
    "    elif(score>=90):\n",
    "        print(\"兄弟象大殺四方\")\n",
    "    else:\n",
    "        print(\"兄弟象總冠軍\")\n",
    "else:\n",
    "    print(\"兄弟象一定贏\")"
   ]
  },
  {
   "cell_type": "code",
   "execution_count": null,
   "metadata": {},
   "outputs": [],
   "source": []
  }
 ],
 "metadata": {
  "kernelspec": {
   "display_name": "Python 3",
   "language": "python",
   "name": "python3"
  },
  "language_info": {
   "codemirror_mode": {
    "name": "ipython",
    "version": 3
   },
   "file_extension": ".py",
   "mimetype": "text/x-python",
   "name": "python",
   "nbconvert_exporter": "python",
   "pygments_lexer": "ipython3",
   "version": "3.6.5"
  }
 },
 "nbformat": 4,
 "nbformat_minor": 2
}
