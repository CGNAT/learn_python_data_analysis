{
 "cells": [
  {
   "cell_type": "code",
   "execution_count": 1,
   "metadata": {},
   "outputs": [
    {
     "data": {
      "text/plain": [
       "{'timestamp': 1540525191.0,\n",
       " 'info': {'code': '6207',\n",
       "  'channel': '6207.tw',\n",
       "  'name': '雷科',\n",
       "  'fullname': '雷科股份有限公司',\n",
       "  'time': '2018-10-26 11:39:51'},\n",
       " 'realtime': {'latest_trade_price': '28.05',\n",
       "  'trade_volume': '1',\n",
       "  'accumulate_trade_volume': '268',\n",
       "  'best_bid_price': ['28.05', '28.00', '27.90', '27.85', '27.80'],\n",
       "  'best_bid_volume': ['6', '63', '4', '3', '1'],\n",
       "  'best_ask_price': ['28.20', '28.30', '28.35', '28.40', '28.45'],\n",
       "  'best_ask_volume': ['2', '4', '2', '3', '1'],\n",
       "  'open': '29.00',\n",
       "  'high': '29.10',\n",
       "  'low': '28.00'},\n",
       " 'success': True}"
      ]
     },
     "execution_count": 1,
     "metadata": {},
     "output_type": "execute_result"
    }
   ],
   "source": [
    "import twstock\n",
    "stock_6207_real = twstock.realtime.get('6207')\n",
    "stock_6207_real"
   ]
  },
  {
   "cell_type": "code",
   "execution_count": 3,
   "metadata": {},
   "outputs": [
    {
     "data": {
      "text/plain": [
       "{'timestamp': 1540525226.0,\n",
       " 'info': {'code': '6207',\n",
       "  'channel': '6207.tw',\n",
       "  'name': '雷科',\n",
       "  'fullname': '雷科股份有限公司',\n",
       "  'time': '2018-10-26 11:40:26'},\n",
       " 'realtime': {'latest_trade_price': '28.05',\n",
       "  'trade_volume': '2',\n",
       "  'accumulate_trade_volume': '270',\n",
       "  'best_bid_price': ['28.05', '28.00', '27.90', '27.85', '27.80'],\n",
       "  'best_bid_volume': ['5', '63', '4', '3', '1'],\n",
       "  'best_ask_price': ['28.20', '28.30', '28.35', '28.40', '28.45'],\n",
       "  'best_ask_volume': ['2', '4', '2', '3', '1'],\n",
       "  'open': '29.00',\n",
       "  'high': '29.10',\n",
       "  'low': '28.00'},\n",
       " 'success': True}"
      ]
     },
     "execution_count": 3,
     "metadata": {},
     "output_type": "execute_result"
    }
   ],
   "source": [
    "stock_6207_real = twstock.realtime.get('6207')\n",
    "stock_6207_real"
   ]
  },
  {
   "cell_type": "code",
   "execution_count": null,
   "metadata": {},
   "outputs": [],
   "source": []
  }
 ],
 "metadata": {
  "kernelspec": {
   "display_name": "Python 3",
   "language": "python",
   "name": "python3"
  },
  "language_info": {
   "codemirror_mode": {
    "name": "ipython",
    "version": 3
   },
   "file_extension": ".py",
   "mimetype": "text/x-python",
   "name": "python",
   "nbconvert_exporter": "python",
   "pygments_lexer": "ipython3",
   "version": "3.6.5"
  }
 },
 "nbformat": 4,
 "nbformat_minor": 2
}
